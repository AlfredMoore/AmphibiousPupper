{
 "cells": [
  {
   "cell_type": "code",
   "execution_count": 4,
   "metadata": {},
   "outputs": [],
   "source": [
    "from pupper.HardwareInterface import HardwareInterface\n",
    "from pupper.Config import PWMParams, ServoParams\n",
    "import numpy as np\n",
    "import re\n",
    "import time\n",
    "\n",
    "from calibrate_servos import get_motor_name, get_motor_setpoint, degrees_to_radians, step_until, overwrite_ServoCalibration_file"
   ]
  },
  {
   "cell_type": "code",
   "execution_count": 9,
   "metadata": {},
   "outputs": [],
   "source": [
    "hardware_interface = HardwareInterface()\n",
    "leg_index = 1\n",
    "\n",
    "set_point = 0\n",
    "axis = 0\n",
    "hardware_interface.set_actuator_position(\n",
    "                    degrees_to_radians(set_point),\n",
    "                    axis,\n",
    "                    leg_index,\n",
    "                )\n",
    "\n",
    "\n",
    "set_point = 45\n",
    "axis = 1\n",
    "hardware_interface.set_actuator_position(\n",
    "                    degrees_to_radians(set_point),\n",
    "                    axis,\n",
    "                    leg_index,\n",
    "                )\n",
    "\n",
    "\n",
    "set_point = 45\n",
    "axis = 2\n",
    "hardware_interface.set_actuator_position(\n",
    "                    degrees_to_radians(set_point),\n",
    "                    axis,\n",
    "                    leg_index,\n",
    "                )"
   ]
  },
  {
   "cell_type": "code",
   "execution_count": 8,
   "metadata": {},
   "outputs": [
    {
     "name": "stdout",
     "output_type": "stream",
     "text": [
      "[[  0.   0.   0.   0.]\n",
      " [ 45.  45.  45.  45.]\n",
      " [-45. -45. -45. -45.]]\n"
     ]
    }
   ],
   "source": [
    "print(hardware_interface.servo_params.neutral_angle_degrees)\n",
    "hardware_interface.set_actuator_postions(\n",
    "    degrees_to_radians(hardware_interface.servo_params.neutral_angle_degrees)\n",
    "    )"
   ]
  },
  {
   "cell_type": "code",
   "execution_count": 14,
   "metadata": {},
   "outputs": [],
   "source": [
    "hardware_interface = HardwareInterface()\n",
    "leg_index = 2\n",
    "\n",
    "set_point = 0\n",
    "axis = 0\n",
    "hardware_interface.set_actuator_position(\n",
    "                    degrees_to_radians(set_point),\n",
    "                    axis,\n",
    "                    leg_index,\n",
    "                )\n",
    "\n",
    "\n",
    "set_point = 0\n",
    "axis = 1\n",
    "hardware_interface.set_actuator_position(\n",
    "                    degrees_to_radians(set_point),\n",
    "                    axis,\n",
    "                    leg_index,\n",
    "                )\n",
    "\n",
    "\n",
    "set_point = 40\n",
    "axis = 2\n",
    "hardware_interface.set_actuator_position(\n",
    "                    degrees_to_radians(set_point),\n",
    "                    axis,\n",
    "                    leg_index,\n",
    "                )"
   ]
  }
 ],
 "metadata": {
  "kernelspec": {
   "display_name": "Python 3",
   "language": "python",
   "name": "python3"
  },
  "language_info": {
   "codemirror_mode": {
    "name": "ipython",
    "version": 3
   },
   "file_extension": ".py",
   "mimetype": "text/x-python",
   "name": "python",
   "nbconvert_exporter": "python",
   "pygments_lexer": "ipython3",
   "version": "3.7.3"
  },
  "orig_nbformat": 4
 },
 "nbformat": 4,
 "nbformat_minor": 2
}
