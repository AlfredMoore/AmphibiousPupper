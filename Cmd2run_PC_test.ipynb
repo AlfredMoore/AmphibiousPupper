{
 "cells": [
  {
   "cell_type": "code",
   "execution_count": 7,
   "metadata": {},
   "outputs": [
    {
     "name": "stdout",
     "output_type": "stream",
     "text": [
      "Terminate PC Socket Connection!\n"
     ]
    }
   ],
   "source": [
    "del(socket_PC)"
   ]
  },
  {
   "cell_type": "code",
   "execution_count": 1,
   "metadata": {},
   "outputs": [],
   "source": [
    "%load_ext autoreload\n",
    "%autoreload 2"
   ]
  },
  {
   "cell_type": "code",
   "execution_count": 2,
   "metadata": {},
   "outputs": [
    {
     "name": "stdout",
     "output_type": "stream",
     "text": [
      "Starting socket: TCP...\n",
      "Connecting to server @ 192.168.31.101:50000...\n",
      "receive: Welcome to Pupper Rpi TCP server!\n"
     ]
    }
   ],
   "source": [
    "# send cmds to Pi through socket\n",
    "from testComms.SocketInterface_Pi_v3 import SocketInterface_PC\n",
    "socket_PC = SocketInterface_PC(SERVER_IP=\"192.168.31.52\", SERVER_PORT=50000)  #client\n"
   ]
  },
  {
   "cell_type": "code",
   "execution_count": 3,
   "metadata": {},
   "outputs": [
    {
     "name": "stdout",
     "output_type": "stream",
     "text": [
      "published...\n",
      "PC has sent a activation msg...\n"
     ]
    }
   ],
   "source": [
    "# 0 or 1\n",
    "R1 = int(0)     # gait_toggle\n",
    "x = int(0)      # hop_toggle\n",
    "L1 = int(1)     # activate_toggle\n",
    "\n",
    "# Might be [0,1]\n",
    "left_x = 0.0    # left_analog_x     x_vel = msg[\"ly\"] * self.config.max_x_velocity\n",
    "left_y = 0.0    # left_analog_y     y_vel = msg[\"lx\"] * -self.config.max_y_velocity\n",
    "right_x = 0.0   # right_analog_x    yaw_rate = msg[\"rx\"] * -self.config.max_yaw_rate\n",
    "right_y = 0.0   # right_analog_y    pitch = msg[\"ry\"] * self.config.max_pitch\n",
    "\n",
    "# Might be [-1,1]\n",
    "dpady = 0.0     # values[\"dpad_up\"] - values[\"dpad_down\"]\n",
    "dpadx = 0.0     # values[\"dpad_right\"] - values[\"dpad_left\"]\n",
    "\n",
    "MESSAGE_RATE = 50\n",
    "\n",
    "msg = {\n",
    "    \"ly\": left_y,\n",
    "    \"lx\": left_x,\n",
    "    \"rx\": right_x,\n",
    "    \"ry\": right_y,\n",
    "    # \"L2\": L2,\n",
    "    # \"R2\": R2,\n",
    "    \"R1\": R1,\n",
    "    \"L1\": L1,\n",
    "    \"dpady\": dpady,\n",
    "    \"dpadx\": dpadx,\n",
    "    \"x\": x,\n",
    "    # \"square\": square,\n",
    "    # \"circle\": circle,\n",
    "    # \"triangle\": triangle,\n",
    "    \"message_rate\": MESSAGE_RATE,\n",
    "}\n",
    "\n",
    "socket_PC.publisher_cmd(msg)\n",
    "print(\"PC has sent a activation msg...\")\n"
   ]
  },
  {
   "cell_type": "code",
   "execution_count": 20,
   "metadata": {},
   "outputs": [
    {
     "name": "stdout",
     "output_type": "stream",
     "text": [
      "published...\n",
      "PC has sent a msg...\n"
     ]
    }
   ],
   "source": [
    "# 0 or 1\n",
    "R1 = int(0)     # gait_toggle\n",
    "x = int(0)      # hop_toggle\n",
    "L1 = int(0)     # activate_toggle\n",
    "\n",
    "# Might be [0,1]\n",
    "left_x = 1    # left_analog_x     x_vel = msg[\"ly\"] * self.config.max_x_velocity\n",
    "left_y = 0.0    # left_analog_y     y_vel = msg[\"lx\"] * -self.config.max_y_velocity\n",
    "right_x = 0.0   # right_analog_x    yaw_rate = msg[\"rx\"] * -self.config.max_yaw_rate\n",
    "right_y = 0.0   # right_analog_y    pitch = msg[\"ry\"] * self.config.max_pitch\n",
    "\n",
    "# Might be [-1,1]\n",
    "dpady = 0.0     # values[\"dpad_up\"] - values[\"dpad_down\"]\n",
    "dpadx = 0.0     # values[\"dpad_right\"] - values[\"dpad_left\"]\n",
    "\n",
    "MESSAGE_RATE = 50\n",
    "\n",
    "msg = {\n",
    "    \"ly\": left_y,\n",
    "    \"lx\": left_x,\n",
    "    \"rx\": right_x,\n",
    "    \"ry\": right_y,\n",
    "    # \"L2\": L2,\n",
    "    # \"R2\": R2,\n",
    "    \"R1\": R1,\n",
    "    \"L1\": L1,\n",
    "    \"dpady\": dpady,\n",
    "    \"dpadx\": dpadx,\n",
    "    \"x\": x,\n",
    "    # \"square\": square,\n",
    "    # \"circle\": circle,\n",
    "    # \"triangle\": triangle,\n",
    "    \"message_rate\": MESSAGE_RATE,\n",
    "}\n",
    "\n",
    "socket_PC.publisher_cmd(msg)\n",
    "print(\"PC has sent a msg...\")\n"
   ]
  }
 ],
 "metadata": {
  "kernelspec": {
   "display_name": "base",
   "language": "python",
   "name": "python3"
  },
  "language_info": {
   "codemirror_mode": {
    "name": "ipython",
    "version": 3
   },
   "file_extension": ".py",
   "mimetype": "text/x-python",
   "name": "python",
   "nbconvert_exporter": "python",
   "pygments_lexer": "ipython3",
   "version": "3.10.9"
  },
  "orig_nbformat": 4
 },
 "nbformat": 4,
 "nbformat_minor": 2
}
