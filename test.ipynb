{
 "cells": [
  {
   "cell_type": "code",
   "execution_count": 12,
   "metadata": {},
   "outputs": [],
   "source": [
    "from torch.distributions import Normal\n",
    "from torch import tensor\n",
    "\n",
    "mu = tensor([0.,0.,0.,0.]).reshape(-1)\n",
    "sigma = tensor([1.,1.,1.,1.]).reshape(-1)\n"
   ]
  },
  {
   "cell_type": "code",
   "execution_count": 13,
   "metadata": {},
   "outputs": [],
   "source": [
    "dis = Normal(mu, sigma)\n"
   ]
  },
  {
   "cell_type": "code",
   "execution_count": 18,
   "metadata": {},
   "outputs": [
    {
     "data": {
      "text/plain": [
       "tensor([-0.2550, -0.7625, -0.7280, -0.0507])"
      ]
     },
     "execution_count": 18,
     "metadata": {},
     "output_type": "execute_result"
    }
   ],
   "source": [
    "dis.sample()"
   ]
  },
  {
   "cell_type": "code",
   "execution_count": 30,
   "metadata": {},
   "outputs": [
    {
     "data": {
      "text/plain": [
       "tensor([[[0., 0., 0., 0.]]])"
      ]
     },
     "execution_count": 30,
     "metadata": {},
     "output_type": "execute_result"
    }
   ],
   "source": [
    "import torch\n",
    "\n",
    "s = tensor([[0.,0.,0.,0.]])\n",
    "torch.unsqueeze(s,0)"
   ]
  },
  {
   "cell_type": "code",
   "execution_count": 10,
   "metadata": {},
   "outputs": [
    {
     "data": {
      "text/plain": [
       "array([1.568e+02, 1.568e+02, 1.568e+02, 2.000e+03, 2.000e+03, 2.000e+03,\n",
       "       1.800e+02, 1.800e+02, 1.800e+02, 1.000e+00, 1.000e+00, 1.000e+00,\n",
       "       1.000e+00])"
      ]
     },
     "execution_count": 10,
     "metadata": {},
     "output_type": "execute_result"
    }
   ],
   "source": [
    "import numpy as np\n",
    "\n",
    "GRAVITY = 9.8\n",
    "IMU_data_range = {\"acceleration\":16 * GRAVITY, \"angular velocity\":2000, \n",
    "                    \"RollPitchYaw\":180, \"Quaterions\":1}\n",
    "\n",
    "acceleration_range = np.array([IMU_data_range[\"acceleration\"]]*3)\n",
    "angular_velocity_range = np.array([IMU_data_range[\"angular velocity\"]]*3)\n",
    "RPY_range = np.array([IMU_data_range[\"RollPitchYaw\"]]*3)\n",
    "Quaterions_range = np.array([IMU_data_range[\"Quaterions\"]]*4)\n",
    "\n",
    "IMU_range = np.concatenate((acceleration_range, angular_velocity_range, RPY_range, Quaterions_range), axis=0)\n",
    "\n",
    "IMU_range"
   ]
  },
  {
   "cell_type": "code",
   "execution_count": 4,
   "metadata": {},
   "outputs": [
    {
     "data": {
      "text/plain": [
       "array([1])"
      ]
     },
     "execution_count": 4,
     "metadata": {},
     "output_type": "execute_result"
    }
   ],
   "source": [
    "import numpy as np\n",
    "\n",
    "(np.array([1,]))"
   ]
  },
  {
   "cell_type": "code",
   "execution_count": null,
   "metadata": {},
   "outputs": [],
   "source": [
    "a = {\"info\": None}"
   ]
  }
 ],
 "metadata": {
  "kernelspec": {
   "display_name": "py39rl",
   "language": "python",
   "name": "python3"
  },
  "language_info": {
   "codemirror_mode": {
    "name": "ipython",
    "version": 3
   },
   "file_extension": ".py",
   "mimetype": "text/x-python",
   "name": "python",
   "nbconvert_exporter": "python",
   "pygments_lexer": "ipython3",
   "version": "3.9.17"
  },
  "orig_nbformat": 4
 },
 "nbformat": 4,
 "nbformat_minor": 2
}
