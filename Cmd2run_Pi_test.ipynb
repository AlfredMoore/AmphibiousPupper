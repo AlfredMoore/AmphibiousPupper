{
 "cells": [
  {
   "cell_type": "code",
   "execution_count": 11,
   "metadata": {},
   "outputs": [
    {
     "name": "stdout",
     "output_type": "stream",
     "text": [
      "Terminate Pi Socket Connection!\n"
     ]
    }
   ],
   "source": [
    "del(socket_Pi)"
   ]
  },
  {
   "cell_type": "code",
   "execution_count": 1,
   "metadata": {},
   "outputs": [],
   "source": [
    "%load_ext autoreload\n",
    "%autoreload 2"
   ]
  },
  {
   "cell_type": "code",
   "execution_count": 39,
   "metadata": {},
   "outputs": [
    {
     "name": "stdout",
     "output_type": "stream",
     "text": [
      "Starting socket: TCP...\n",
      "TCP server listen @ 192.168.31.52:50005!\n"
     ]
    },
    {
     "ename": "OSError",
     "evalue": "[Errno 99] Cannot assign requested address",
     "output_type": "error",
     "traceback": [
      "\u001b[0;31m---------------------------------------------------------------------------\u001b[0m",
      "\u001b[0;31mOSError\u001b[0m                                   Traceback (most recent call last)",
      "Cell \u001b[0;32mIn[39], line 6\u001b[0m\n\u001b[1;32m      1\u001b[0m \u001b[39m# receive cmds from PC through socket\u001b[39;00m\n\u001b[1;32m      2\u001b[0m \u001b[39m# from testComms.SocketInterface_Pi_v3 import SocketInterface_Pi\u001b[39;00m\n\u001b[1;32m      3\u001b[0m \u001b[39m# import os\u001b[39;00m\n\u001b[1;32m      4\u001b[0m \u001b[39m# os.chdir(\"/home/pi/\")\u001b[39;00m\n\u001b[1;32m      5\u001b[0m \u001b[39mfrom\u001b[39;00m \u001b[39mtestComms\u001b[39;00m\u001b[39m.\u001b[39;00m\u001b[39mSocketInterface_Pi_v3\u001b[39;00m \u001b[39mimport\u001b[39;00m SocketInterface_Pi\n\u001b[0;32m----> 6\u001b[0m socket_Pi \u001b[39m=\u001b[39m SocketInterface_Pi(HOST_IP\u001b[39m=\u001b[39;49m\u001b[39m\"\u001b[39;49m\u001b[39m192.168.31.52\u001b[39;49m\u001b[39m\"\u001b[39;49m, HOST_PORT\u001b[39m=\u001b[39;49m\u001b[39m50005\u001b[39;49m)\n",
      "File \u001b[0;32m~/PupperDog/StanfordQuadruped_v2/testComms/SocketInterface_Pi_v3.py:43\u001b[0m, in \u001b[0;36mSocketInterface_Pi.__init__\u001b[0;34m(self, HOST_IP, HOST_PORT)\u001b[0m\n\u001b[1;32m     41\u001b[0m \u001b[39mself\u001b[39m\u001b[39m.\u001b[39mhost_addr \u001b[39m=\u001b[39m (\u001b[39mself\u001b[39m\u001b[39m.\u001b[39mHOST_IP, \u001b[39mself\u001b[39m\u001b[39m.\u001b[39mHOST_PORT)\n\u001b[1;32m     42\u001b[0m \u001b[39m#2.bind socket to addr:socket.bind(address)\u001b[39;00m\n\u001b[0;32m---> 43\u001b[0m \u001b[39mself\u001b[39;49m\u001b[39m.\u001b[39;49msocket_tcp\u001b[39m.\u001b[39;49mbind(\u001b[39mself\u001b[39;49m\u001b[39m.\u001b[39;49mhost_addr)\n\u001b[1;32m     44\u001b[0m \u001b[39m#3.listen connection request:socket.listen(backlog)\u001b[39;00m\n\u001b[1;32m     45\u001b[0m \u001b[39mself\u001b[39m\u001b[39m.\u001b[39msocket_tcp\u001b[39m.\u001b[39mlisten(\u001b[39m1\u001b[39m)\n",
      "\u001b[0;31mOSError\u001b[0m: [Errno 99] Cannot assign requested address"
     ]
    }
   ],
   "source": [
    "# receive cmds from PC through socket\n",
    "# from testComms.SocketInterface_Pi_v3 import SocketInterface_Pi\n",
    "# import os\n",
    "# os.chdir(\"/home/pi/\")\n",
    "from testComms.SocketInterface_Pi_v3 import SocketInterface_Pi\n",
    "socket_Pi = SocketInterface_Pi(HOST_IP=\"192.168.31.52\", HOST_PORT=50000)  # server"
   ]
  },
  {
   "cell_type": "code",
   "execution_count": 3,
   "metadata": {},
   "outputs": [
    {
     "name": "stdout",
     "output_type": "stream",
     "text": [
      "Pi receive: {'ly': 0.0, 'lx': 0.0, 'rx': 0.0, 'ry': 0.0, 'R1': 0, 'L1': 1, 'dpady': 0.0, 'dpadx': 0.0, 'x': 0, 'message_rate': 50}\n"
     ]
    }
   ],
   "source": [
    "cmd_recv = socket_Pi.subscriber_cmd()\n",
    "print(\"Pi receive:\",cmd_recv)\n"
   ]
  },
  {
   "cell_type": "code",
   "execution_count": 4,
   "metadata": {},
   "outputs": [
    {
     "name": "stdout",
     "output_type": "stream",
     "text": [
      "activate_event: True\n"
     ]
    }
   ],
   "source": [
    "from src.State import State\n",
    "state = State()\n",
    "\n",
    "command = socket_Pi.get_command(state, cmd_recv)"
   ]
  },
  {
   "cell_type": "code",
   "execution_count": null,
   "metadata": {},
   "outputs": [],
   "source": [
    "import numpy as np\n",
    "import time\n",
    "from src.IMU import IMU\n",
    "from src.Controller import Controller\n",
    "# from src.JoystickInterface import JoystickInterface\n",
    "from testComms.SocketInterface_Pi_v3 import SocketInterface_Pi\n",
    "from src.State import State\n",
    "from pupper.HardwareInterface import HardwareInterface\n",
    "from pupper.Config import Configuration\n",
    "from pupper.Kinematics import four_legs_inverse_kinematics\n",
    "\n",
    "def robot(use_imu=False):\n",
    "    \"\"\"Main program\n",
    "    \"\"\"\n",
    "\n",
    "    # Create config\n",
    "    config = Configuration()\n",
    "    hardware_interface = HardwareInterface()\n",
    "    # print(\"hardware interface established\")\n",
    "    # Create imu handle\n",
    "    if use_imu:\n",
    "        imu = IMU(port=\"/dev/ttyACM0\")\n",
    "        imu.flush_buffer()\n",
    "\n",
    "    # Create controller and user input handles\n",
    "    controller = Controller(\n",
    "        config,\n",
    "        four_legs_inverse_kinematics,\n",
    "    )\n",
    "    state = State()\n",
    "    # print(\"Creating joystick listener...\")\n",
    "    # joystick_interface = JoystickInterface(config)\n",
    "    socket_Pi = SocketInterface_Pi(HOST_IP=\"192.168.31.88\", HOST_PORT=50000)\n",
    "    # print(\"Done.\")\n",
    "\n",
    "    last_loop = time.time()\n",
    "\n",
    "    # print(\"Summary of gait parameters:\")\n",
    "    # print(\"overlap time: \", config.overlap_time)\n",
    "    # print(\"swing time: \", config.swing_time)\n",
    "    # print(\"z clearance: \", config.z_clearance)\n",
    "    # print(\"x shift: \", config.x_shift)\n",
    "\n",
    "    # Wait until the activate button has been pressed\n",
    "\n",
    "    print(\"Waiting for L1 to activate robot.\")\n",
    "    while True:\n",
    "        # command = joystick_interface.get_command(state)\n",
    "        # print(command.activate_event)\n",
    "        # joystick_interface.set_color(config.ps4_deactivated_color)\n",
    "\n",
    "        msg_recv = socket_Pi.subscriber_cmd()\n",
    "        command = socket_Pi.get_command(state, msg_recv)\n",
    "\n",
    "        if command.activate_event == 1:\n",
    "            break\n",
    "        print(\"You should firstly activate the Robot!\")\n",
    "        time.sleep(0.1)\n",
    "    print(\"Robot activated.\")\n",
    "    # joystick_interface.set_color(config.ps4_color)\n",
    "\n",
    "    while True:\n",
    "        now = time.time()\n",
    "        if now - last_loop < config.dt:\n",
    "            continue\n",
    "        last_loop = time.time()\n",
    "\n",
    "        # Parse the udp joystick commands and then update the robot controller's parameters\n",
    "        \n",
    "        print(\"Waiting for msg...\")\n",
    "        msg_recv = socket_Pi.subscriber_cmd()\n",
    "        print(\"Pi receive:\", msg_recv)\n",
    "        command = socket_Pi.get_command(state, msg_recv)\n",
    "\n",
    "        if command.activate_event == 1:\n",
    "            print(\"Deactivating Robot\")\n",
    "            break\n",
    "\n",
    "        # Read imu data. Orientation will be None if no data was available\n",
    "        quat_orientation = (\n",
    "            imu.read_orientation() if use_imu else np.array([1, 0, 0, 0])\n",
    "        )\n",
    "        state.quat_orientation = quat_orientation\n",
    "\n",
    "        # Step the controller forward by dt\n",
    "        controller.run(state, command)\n",
    "\n",
    "        # Update the pwm widths going to the servos\n",
    "        hardware_interface.set_actuator_postions(state.joint_angles)"
   ]
  },
  {
   "cell_type": "code",
   "execution_count": 30,
   "metadata": {},
   "outputs": [
    {
     "name": "stderr",
     "output_type": "stream",
     "text": [
      "2023-06-15 17:09:43 initInitialise: Can't lock /var/run/pigpio.pid\n",
      "Can't initialise pigpio library\n"
     ]
    },
    {
     "name": "stdout",
     "output_type": "stream",
     "text": [
      "Starting socket: TCP...\n",
      "TCP server listen @ 192.168.31.88:50000!\n",
      "Connection accepted from 192.168.31.229.\n",
      "Waiting for L1 to activate robot.\n",
      "Robot activated.\n",
      "Waiting for msg...\n",
      "Pi receive: {'ly': 0.0, 'lx': 0.0, 'rx': 0.0, 'ry': 0.0, 'R1': 0, 'L1': 1, 'dpady': 0.0, 'dpadx': 0.0, 'x': 0, 'message_rate': 50}\n",
      "Waiting for msg...\n",
      "Pi receive: {'ly': 0.0, 'lx': 0.0, 'rx': 0.0, 'ry': 0.0, 'R1': 0, 'L1': 1, 'dpady': 0.0, 'dpadx': 0.0, 'x': 0, 'message_rate': 50}\n",
      "Waiting for msg...\n"
     ]
    },
    {
     "ename": "KeyboardInterrupt",
     "evalue": "",
     "output_type": "error",
     "traceback": [
      "\u001b[0;31m---------------------------------------------------------------------------\u001b[0m",
      "\u001b[0;31mKeyboardInterrupt\u001b[0m                         Traceback (most recent call last)",
      "\u001b[0;32m/tmp/ipykernel_3689/2945652235.py\u001b[0m in \u001b[0;36m<module>\u001b[0;34m\u001b[0m\n\u001b[1;32m      1\u001b[0m \u001b[0;32mimport\u001b[0m \u001b[0mos\u001b[0m\u001b[0;34m\u001b[0m\u001b[0;34m\u001b[0m\u001b[0m\n\u001b[1;32m      2\u001b[0m \u001b[0mos\u001b[0m\u001b[0;34m.\u001b[0m\u001b[0msystem\u001b[0m\u001b[0;34m(\u001b[0m\u001b[0;34m\"sudo pigpiod\"\u001b[0m\u001b[0;34m)\u001b[0m\u001b[0;34m\u001b[0m\u001b[0;34m\u001b[0m\u001b[0m\n\u001b[0;32m----> 3\u001b[0;31m \u001b[0mrobot\u001b[0m\u001b[0;34m(\u001b[0m\u001b[0;34m)\u001b[0m\u001b[0;34m\u001b[0m\u001b[0;34m\u001b[0m\u001b[0m\n\u001b[0m",
      "\u001b[0;32m/tmp/ipykernel_3689/1492577843.py\u001b[0m in \u001b[0;36mrobot\u001b[0;34m(use_imu)\u001b[0m\n\u001b[1;32m     69\u001b[0m \u001b[0;34m\u001b[0m\u001b[0m\n\u001b[1;32m     70\u001b[0m         \u001b[0mprint\u001b[0m\u001b[0;34m(\u001b[0m\u001b[0;34m\"Waiting for msg...\"\u001b[0m\u001b[0;34m)\u001b[0m\u001b[0;34m\u001b[0m\u001b[0;34m\u001b[0m\u001b[0m\n\u001b[0;32m---> 71\u001b[0;31m         \u001b[0mmsg_recv\u001b[0m \u001b[0;34m=\u001b[0m \u001b[0msocket_Pi\u001b[0m\u001b[0;34m.\u001b[0m\u001b[0msubscriber_cmd\u001b[0m\u001b[0;34m(\u001b[0m\u001b[0;34m)\u001b[0m\u001b[0;34m\u001b[0m\u001b[0;34m\u001b[0m\u001b[0m\n\u001b[0m\u001b[1;32m     72\u001b[0m         \u001b[0mprint\u001b[0m\u001b[0;34m(\u001b[0m\u001b[0;34m\"Pi receive:\"\u001b[0m\u001b[0;34m,\u001b[0m \u001b[0mmsg_recv\u001b[0m\u001b[0;34m)\u001b[0m\u001b[0;34m\u001b[0m\u001b[0;34m\u001b[0m\u001b[0m\n\u001b[1;32m     73\u001b[0m         \u001b[0mcommand\u001b[0m \u001b[0;34m=\u001b[0m \u001b[0msocket_Pi\u001b[0m\u001b[0;34m.\u001b[0m\u001b[0mget_command\u001b[0m\u001b[0;34m(\u001b[0m\u001b[0mstate\u001b[0m\u001b[0;34m,\u001b[0m \u001b[0mmsg_recv\u001b[0m\u001b[0;34m)\u001b[0m\u001b[0;34m\u001b[0m\u001b[0;34m\u001b[0m\u001b[0m\n",
      "\u001b[0;32m~/StanfordQuadruped/testComms/SocketInterface_Pi_v3.py\u001b[0m in \u001b[0;36msubscriber_cmd\u001b[0;34m(self)\u001b[0m\n\u001b[1;32m     54\u001b[0m \u001b[0;34m\u001b[0m\u001b[0m\n\u001b[1;32m     55\u001b[0m     \u001b[0;32mdef\u001b[0m \u001b[0msubscriber_cmd\u001b[0m\u001b[0;34m(\u001b[0m\u001b[0mself\u001b[0m\u001b[0;34m)\u001b[0m\u001b[0;34m:\u001b[0m\u001b[0;34m\u001b[0m\u001b[0;34m\u001b[0m\u001b[0m\n\u001b[0;32m---> 56\u001b[0;31m         \u001b[0;32mwhile\u001b[0m \u001b[0;32mTrue\u001b[0m\u001b[0;34m:\u001b[0m\u001b[0;34m\u001b[0m\u001b[0;34m\u001b[0m\u001b[0m\n\u001b[0m\u001b[1;32m     57\u001b[0m             \u001b[0;31m# print(\"Receiving package...\")\u001b[0m\u001b[0;34m\u001b[0m\u001b[0;34m\u001b[0m\u001b[0;34m\u001b[0m\u001b[0m\n\u001b[1;32m     58\u001b[0m             \u001b[0mdata\u001b[0m \u001b[0;34m=\u001b[0m \u001b[0mself\u001b[0m\u001b[0;34m.\u001b[0m\u001b[0msocket_con\u001b[0m\u001b[0;34m.\u001b[0m\u001b[0mrecv\u001b[0m\u001b[0;34m(\u001b[0m\u001b[0;36m512\u001b[0m\u001b[0;34m)\u001b[0m\u001b[0;34m\u001b[0m\u001b[0;34m\u001b[0m\u001b[0m\n",
      "\u001b[0;31mKeyboardInterrupt\u001b[0m: "
     ]
    }
   ],
   "source": [
    "import os\n",
    "os.system(\"sudo pigpiod\")\n",
    "robot()"
   ]
  }
 ],
 "metadata": {
  "kernelspec": {
   "display_name": "Python 3",
   "language": "python",
   "name": "python3"
  },
  "language_info": {
   "codemirror_mode": {
    "name": "ipython",
    "version": 3
   },
   "file_extension": ".py",
   "mimetype": "text/x-python",
   "name": "python",
   "nbconvert_exporter": "python",
   "pygments_lexer": "ipython3",
   "version": "3.10.9"
  },
  "orig_nbformat": 4
 },
 "nbformat": 4,
 "nbformat_minor": 2
}
